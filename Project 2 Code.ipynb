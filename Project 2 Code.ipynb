{
 "cells": [
  {
   "cell_type": "markdown",
   "id": "c8e4a917",
   "metadata": {},
   "source": [
    "# Project 2 (python)"
   ]
  },
  {
   "cell_type": "markdown",
   "id": "2acba458",
   "metadata": {},
   "source": [
    "By Michelle Liu"
   ]
  },
  {
   "cell_type": "markdown",
   "id": "a6782dcf",
   "metadata": {},
   "source": [
    "## Introduction\n",
    "### Scientific Question\n",
    "How does the LRRK2 G2019S mutant, associated with Parkinson's Disease, affect the gene expression of lin-28 and RfC3 in the dopaminergic neurons of Drosophila fruit flies?\n",
    "### Scientific Hypothesis \n",
    "If the LRRK2 G2019S mutant shows decreased gene expression in lin-28 and RfC3, then it may be possible that these genes contribute to loss of dopaminergic (DA) neurons after LRRK2 G2019S expression.\n",
    "\n",
    "Lin-28 is involved in mRNA metabolism and translation and RfC3 is involved in DNA repair. \n",
    "### Background Information \n",
    "Leucine-rich repeat kinase 2 (LRRK2) is a large protein involved in catalyzing phosphorylation through its kinase domain and hydrolyzing GTP-GDP through its ROC-GTPase domain (Li et al., 2014). LRRK2 mutations have been shown to cause autosomal dominant Parkinson’s disease with late onset (Zimprich et al., 2014). Parkinson’s disease is a movement disorder caused  by the loss of midbrain dopaminergic (DA) neurons in the substantia nigra. Previous studies have shown that the LRRK2 G2019S mutation increases LRRK2 kinase activity and induces neurodegeneration associated with PD in a significant subset of idiopathic cases (Gilks et al., 2005). The Drosophila model have been found to be useful for studying LRRK2-linked PD because  LRRK2 G2019S flies were able to show robust and age-related DA neuron loss with associated motor deficits (Liu et al, 2008), and it provides useful insight that human patient samples were unable to (Imai et al, 2008). To understand the effects of LRRK2  G2019S on gene expression changes in complex brain tissues, Pallos et al., 2021 used translating ribosome affinity purification (TRAP) coupled to RNA-seq to profile gene expression changes caused by LRRK2 G2019S in Drosophila central nervous system (CNS). \n",
    "\n",
    "**References** \n",
    "\n",
    "Li et al., 2014\n",
    "https://molecularneurodegeneration.biomedcentral.com/articles/10.1186/1750-1326-9-47\n",
    "\n",
    "Zimprich et al., 2014\n",
    "https://www.cell.com/neuron/fulltext/S0896-6273(04)00720-2?_returnURL=https%3A%2F%2Flinkinghub.elsevier.com%2Fretrieve%2Fpii%2FS0896627304007202%3Fshowall%3Dtrue\n",
    "\n",
    "Gilks et al., 2005\n",
    "https://linkinghub.elsevier.com/retrieve/pii/S0140673605178301\n",
    "\n",
    "Liu et al., 2008\n",
    "https://www.pnas.org/content/105/7/2693\n",
    "\n",
    "Imai et al., 2008\n",
    "https://www.embopress.org/doi/full/10.1038/emboj.2008.163\n",
    "\n",
    "Pallos et al., 2021\n",
    "https://www.sciencedirect.com/science/article/pii/S096999612100139X?via%3Dihub\n",
    "\n",
    "\n",
    "### Data and Analyses\n",
    "In this project, I will be using the RNA-seq data provided in the supplemental data section of Pallos et al., 2021. I will use one bioinformatics method and 2 plotting methods. I will first perform a p-values test to determine the statistical significance between controls and experimental groups. Then, I will plot the results using principal component analysis (PCA) to show the variability between genetic groups including no LRRK2 control, LRRK2, and LRRK2 G2019S mutant. I will also plot a heatmap to show the expression pattern of differentially expressed genes within the different biological groups, including no LRRK2 control, LRRK2, and LRRK2 G2019S mutant, and their replicates.\n",
    "\n",
    "The data was obtained from the supplemental data 1 of the article Pallos et al 2021: https://www.sciencedirect.com/science/article/pii/S096999612100139X?via%3Dihub and the excel sheet was downloaded onto my computer."
   ]
  },
  {
   "cell_type": "markdown",
   "id": "891e7538",
   "metadata": {},
   "source": [
    "## Performing Bioinformatics Analysis"
   ]
  },
  {
   "cell_type": "markdown",
   "id": "82e0f233",
   "metadata": {},
   "source": [
    "### Part 1: Load packages\n",
    "Packages loaded include the following:\n",
    "\n",
    "\n",
    "**NumPy**: NumPy is a scientific computing package used in Python. The core of this package is the ndarray object that allows arrays of n-dimensions to be generated for homogeneous data types. There are a wide variety of operations that can be performed on arrays including mathematical, logical, shape manipulation, basic linear algebra, and etc. NumPy vectorizes code meaning that there is no need for explicit looping, indexing, etc. Vectorized code allows for faster and more efficient coding and the code is similar to mathematical notation, making it easier to understand. Resource link: https://numpy.org/doc/stable/user/whatisnumpy.html\n",
    "\n",
    "**Matplotlib.pyplot**: matplotlib is a package for creating various visualizations in python. Matplotlib graphs can plot data with one or more axes and these axes can be specified as x-y coordinates, theta-r coordinates or x-y-z in a 3D plot, etc. pyplot is a module of matplotlib that can automatically generate the figure and axes as specified. Pyplot automatically correlates the x and y axes, and is mostly intended for generating interactive plots. There are various functions that can be specified in this module including “acorr” which is the autocorrelation of x, “arrow”  which added an arrow to the axes, “bar” to make a barplot, and etc. Resource link: https://matplotlib.org/stable/api/_as_gen/matplotlib.pyplot.html\n",
    "https://matplotlib.org/stable/tutorials/introductory/usage.html#sphx-glr-tutorials-introductory-usage-py\n",
    "\n",
    "\n",
    "**Pandas**: Pandas is a package used for data analysis and manipulation in Python. It provides data structures that helps organize many types of data, whether homogeneous or heterogeneous. The 2 main data structures in pandas are Series, which is 1-dimensional, and DataFrame, which is 2-dimensional. Pandas allows missing data to be represented as NaN, columns to be easily inserted or deleted from a DataFrame, datasets to be merged or reshaped, and etc. Pandas is an extension of NumPy and thus can work with NumPy to scientifically compute and manipulate data at the same time. Pandas is a powerful tool for analyzing data in an efficient and flexible manner. Resource link: https://pandas.pydata.org/pandas-docs/stable/getting_started/overview.html\n",
    "\n",
    "\n",
    "**Seaborn**: Seaborn is a data visualization tool built off of matplotlib. It allows for generating attractive and informative statistical visualizations. It can read in data frames and arrays with entire datasets but the elements that you wish to plot can be specified. It uses load_dataset() function to load in the dataset with pandas data frames. It only requires a single call to the function relplot with the data, x and y values specified and seaborn handles the colors, sizes and other visual parameters automatically. Seaborn can also perform statistical estimation and use bootstrapping to calculate confidence intervals. Resource link: https://seaborn.pydata.org/introduction.html\n",
    "\n",
    "**Scipy**: SciPy is another scientific computing package that is an extension of NumPy in Python. It extends the functions of NumPy by allowing for specialized data such as sparse matrices and k-dimensional trees. It has more functions for optimization, stats, and signal processing. More specifically, SciPy has the full features of linear algebra compared to NumPy. Some other special functions of SciPy include cubic root, exponential, permutation, computations and many more. Resource link: https://www.guru99.com/scipy-tutorial.html\n",
    "https://scipy.org/\n",
    "\n",
    "**Sklearn**: Sklearn is a predictive data analysis tool more commonly used in machine learning. Some of the common types of data analysis that use sklearn include regression, clustering, dimensionality reduction and preprocessing. Sklearn is built on NumPy, SciPy and matplotlib. Sklearn is used in this project for preprocessing with the “preprocessing” module, which involves extracting and normalizing data, and reducing dimensions for dimensionality reduction with the “decomposition” module. One feature of sklearn is its built-in persistence model, pickle, that saves a model in sklearn. Resource link: https://scikit-learn.org/0.21/tutorial/basic/tutorial.html\n",
    "\n",
    "#### Global vs. Local Variables \n",
    "Global variables are not defined inside functions and have a global scope meaning that they can be accessed outside or inside functions. \n",
    "\n",
    "Local variables are defined inside functions and have a local scope so that they can only be accessed inside the function that they were defined in.\n"
   ]
  },
  {
   "cell_type": "code",
   "execution_count": 1,
   "id": "d4e846cd",
   "metadata": {},
   "outputs": [],
   "source": [
    "#used for scientific computing\n",
    "import numpy as np\n",
    "\n",
    "#used for generating basic plots\n",
    "import matplotlib.pyplot as plt\n",
    "\n",
    "#used for data manipulation and analysis \n",
    "import pandas as pd\n",
    "\n",
    "#used for generating plots such as heatmaps\n",
    "import seaborn as sns\n",
    "\n",
    "#used for generating p-values\n",
    "from scipy import stats\n",
    "\n",
    "#used to standardize data before PCA\n",
    "from sklearn.preprocessing import StandardScaler\n",
    "\n",
    "#used to reduce dimensions for PCA\n",
    "from sklearn.decomposition import PCA "
   ]
  },
  {
   "cell_type": "markdown",
   "id": "4fbf1928",
   "metadata": {},
   "source": [
    "### Part 2: Load in data and perform bioinformatics analyses"
   ]
  },
  {
   "cell_type": "code",
   "execution_count": 2,
   "id": "f25c9829",
   "metadata": {},
   "outputs": [
    {
     "name": "stdout",
     "output_type": "stream",
     "text": [
      "             RefSeq  Genename  No LRRK2 control Replicate 1  \\\n",
      "0      NM_001007095   CG42637                             0   \n",
      "1      NM_001007096   CG42637                             0   \n",
      "2      NM_001014453     PNUTS                           323   \n",
      "3      NM_001014454     PNUTS                             0   \n",
      "4      NM_001014455     PNUTS                             0   \n",
      "...             ...       ...                           ...   \n",
      "34093     NR_144677  mir-9374                             0   \n",
      "34094     NR_144678  mir-9383                             0   \n",
      "34095     NR_144679  mir-9388                             0   \n",
      "34096     NR_144680   CR46299                             0   \n",
      "34097     NR_144681   CR46322                             0   \n",
      "\n",
      "       No LRRK2 control Replicate 2  No LRRK2 control Replicate 3  \\\n",
      "0                                 0                             0   \n",
      "1                                 0                             0   \n",
      "2                               450                           247   \n",
      "3                                 0                             0   \n",
      "4                                 0                             0   \n",
      "...                             ...                           ...   \n",
      "34093                             0                             0   \n",
      "34094                             0                             0   \n",
      "34095                             0                             0   \n",
      "34096                             0                             0   \n",
      "34097                             3                             0   \n",
      "\n",
      "       No LRRK2 control mean  No LRRK2 control SD  LRRK2 Replicate 1  \\\n",
      "0                        0.0             0.000000                  0   \n",
      "1                        0.0             0.000000                  0   \n",
      "2                      340.0           102.562176                188   \n",
      "3                        0.0             0.000000                  0   \n",
      "4                        0.0             0.000000                  0   \n",
      "...                      ...                  ...                ...   \n",
      "34093                    0.0             0.000000                  0   \n",
      "34094                    0.0             0.000000                  0   \n",
      "34095                    0.0             0.000000                  0   \n",
      "34096                    0.0             0.000000                  0   \n",
      "34097                    1.0             1.732051                  0   \n",
      "\n",
      "       LRRK2 Replicate 2  LRRK2 Replicate 3  LRRK2 mean   LRRK2 SD  \\\n",
      "0                      0                  0         0.0   0.000000   \n",
      "1                      0                  0         0.0   0.000000   \n",
      "2                    311                299       266.0  67.815927   \n",
      "3                      0                  0         0.0   0.000000   \n",
      "4                      0                  0         0.0   0.000000   \n",
      "...                  ...                ...         ...        ...   \n",
      "34093                  0                  0         0.0   0.000000   \n",
      "34094                  0                  0         0.0   0.000000   \n",
      "34095                  0                  0         0.0   0.000000   \n",
      "34096                  0                  0         0.0   0.000000   \n",
      "34097                  0                  0         0.0   0.000000   \n",
      "\n",
      "       LRRK2 G2019S Replicate 1  LRRK2 G2019S Replicate 2  \\\n",
      "0                             0                         0   \n",
      "1                             0                         0   \n",
      "2                           212                        67   \n",
      "3                             0                         0   \n",
      "4                             0                         0   \n",
      "...                         ...                       ...   \n",
      "34093                         0                         0   \n",
      "34094                         0                         0   \n",
      "34095                         0                         0   \n",
      "34096                         0                         0   \n",
      "34097                         0                         0   \n",
      "\n",
      "       LRRK2 G2019S Replicate 3  LRRK2 G2019S mean  LRRK2 G2019S SD  \n",
      "0                             0           0.000000         0.000000  \n",
      "1                             0           0.000000         0.000000  \n",
      "2                           233         170.666667        90.389896  \n",
      "3                             0           0.000000         0.000000  \n",
      "4                             0           0.000000         0.000000  \n",
      "...                         ...                ...              ...  \n",
      "34093                         0           0.000000         0.000000  \n",
      "34094                         0           0.000000         0.000000  \n",
      "34095                         0           0.000000         0.000000  \n",
      "34096                         0           0.000000         0.000000  \n",
      "34097                         0           0.000000         0.000000  \n",
      "\n",
      "[34098 rows x 17 columns]\n"
     ]
    }
   ],
   "source": [
    "#loads in data from excel file and skips the first 2 rows\n",
    "df = pd.read_excel(\"/Users/michelleliu/BIMM 143/rna seq dataset.xlsx\", skiprows = 2)\n",
    "\n",
    "#check for type\n",
    "type(df)\n",
    "\n",
    "#check to see if correctly loaded dataframe\n",
    "print(df)\n"
   ]
  },
  {
   "cell_type": "markdown",
   "id": "cdf6a833",
   "metadata": {},
   "source": [
    "#### P-values \n",
    "P-values are the result of a bioinformatics method that determines statistical significance of a dataset. P-values are related to hypothesis testing in that there is a null hypothesis that represents a claim made about a population of data and an alternative hypothesis that is accepted when null hypothesis is determined to be untrue. P-values are used to evaluate the strength of the evidence by the data by calculating the statistical significance between two samples. \n",
    "If the p-value is lower than predetermined significance level called alpha then we reject the null hypothesis and accept the alternative hypothesis. \n",
    "\n",
    "The standard threshold of significance for p-values is 0.05 where data with p-value less than 0.05 is considered significant because the probability of a random chance or otherwise, an extreme event that the data occurred under the null hypothesis, is less than 5%. Data with a p-value greater than 0.05 means that there is no effect and we fail to reject the null hypothesis. \n",
    "\n",
    "In this case, p-values will be adjusted for false discovery rate (FDR) which is the ratio of false positive results to total positive test results so the significance threshold will depend on what percent of false positives we are willing to accept for a particular set of data. A p-value less than 0.05 indicates that less than 5% of all tests will result in false positives. \n",
    "\n",
    "FDR is especially important when conducting multiple comparisons and as a result, there is a higher chance of false positives and the p-value threshold is often lower than 5%. \n",
    "\n",
    "This bioinformatics method takes in dataframes, often by reading in csv or excel files.\n",
    "\n",
    "One way to calculate p-values is through a t-test, which is a two-sided test for the null hypothesis to determine if two independent samples have statistical properties.\n",
    "\n",
    "**How it works**: First, the mean and standard deviation of the RNA-seq data of each control or experimental group will be to be calculated, which is already done in the excel sheet.\n",
    "Then the random variates are generated per control or experimental using the mean and standard deviation and these random variates are compared between groups to determine the p-values using a t-test.\n",
    "\n",
    "References:\n",
    "\n",
    "https://www.tutorialspoint.com/python_data_science/python_p_value.htm\n",
    "https://docs.scipy.org/doc/scipy/reference/generated/scipy.stats.ttest_ind.html\n",
    "https://docs.scipy.org/doc/scipy/reference/generated/scipy.stats.norm.html\n",
    "https://towardsdatascience.com/p-values-explained-by-data-scientist-f40a746cfc8"
   ]
  },
  {
   "cell_type": "code",
   "execution_count": 3,
   "id": "1747c09b",
   "metadata": {},
   "outputs": [
    {
     "name": "stdout",
     "output_type": "stream",
     "text": [
      "Ttest_indResult(statistic=-0.438882908003457, pvalue=0.6607477724355522)\n",
      "Ttest_indResult(statistic=-0.15715898126311656, pvalue=0.8751200199932734)\n",
      "Ttest_indResult(statistic=-0.5860541699222546, pvalue=0.5578410525639117)\n"
     ]
    }
   ],
   "source": [
    "#generates variates that will be inserted into a ttest from the mean (loc) and standard deviation (scale) of each dataset\n",
    "#for No LRRK2 control\n",
    "rvs1 = stats.norm.rvs(loc=df[\"No LRRK2 control mean\"], scale=df[\"No LRRK2 control SD\"])\n",
    "\n",
    "#for LRRK2 condition\n",
    "rvs2 = stats.norm.rvs(loc=df[\"LRRK2 mean\"], scale=df[\"LRRK2 SD\"])\n",
    "\n",
    "#for LRRK2 G2019S condition\n",
    "rvs3 = stats.norm.rvs(loc=df[\"LRRK2 G2019S mean\"], scale=df[\"LRRK2 G2019S SD\"])\n",
    "\n",
    "#creates a function for performing the ttest\n",
    "def ttest(group1, group2):\n",
    "    return stats.ttest_ind(group1, group2)\n",
    "\n",
    "#t-test between No LRRK2 control and LRRK2\n",
    "print(ttest(rvs1, rvs2))\n",
    "\n",
    "#t-test between LRRK2 and LRRK2 G2019S\n",
    "print(ttest(rvs2, rvs3))\n",
    "\n",
    "#t-test between No LRRK2 control and LRRK2 G2019S\n",
    "print(ttest(rvs1, rvs3))"
   ]
  },
  {
   "cell_type": "markdown",
   "id": "1029fcc7",
   "metadata": {},
   "source": [
    "## Plotting the Results"
   ]
  },
  {
   "cell_type": "markdown",
   "id": "33540df9",
   "metadata": {},
   "source": [
    "#### Principle Component Analysis (PCA)\n",
    "Principle Component Analysis (PCA) is a dimensionality reduction method that takes a large dataset with multiple variables or dimensions and reduces it down to two dimensions while maintaining the essential parts that show more variation and removing the non-essential parts with less variation. Principal components are the reduced and uncorrelated dimensions that encapsulate most of the variance of the data. The first principal component contains the most variance, often plotted on the x axis,  and each subsequent component is orthogonal to the previous and has reduced variance. \n",
    "\n",
    "PCA reads in data frames with numeric values. \n",
    "\n",
    "**How it works**:\n",
    "First, the data is standardized so that all continuous initial variables are on the same unit scale and each variable will contribute equally to the analysis. Then, the dimensions or variables of the data are reduced down to 2 and the 2-dimensional data is plotted. The explained variance ratio can be calculated to determine the amount of variance in each principal component. \n",
    "\n",
    "References:\n",
    "\n",
    "https://towardsdatascience.com/pca-using-python-scikit-learn-e653f8989e60\n",
    "https://www.datacamp.com/community/tutorials/principal-component-analysis-in-python\n"
   ]
  },
  {
   "cell_type": "code",
   "execution_count": 4,
   "id": "db9b29cb",
   "metadata": {},
   "outputs": [],
   "source": [
    "#indicate variables/dimensions to be reduced\n",
    "features = ['No LRRK2 control Replicate 1', 'No LRRK2 control Replicate 2', 'No LRRK2 control Replicate 3', 'LRRK2 Replicate 1', 'LRRK2 Replicate 2', 'LRRK2 Replicate 3', 'LRRK2 G2019S Replicate 1','LRRK2 G2019S Replicate 2','LRRK2 G2019S Replicate 3']\n",
    "\n",
    "#separate out the variables/dimensions \n",
    "x = df.loc[:, features].values\n",
    "\n",
    "#standardize the variables/dimensions onto unit scale (mean = 0, variance = 1)\n",
    "x = StandardScaler().fit_transform(x)"
   ]
  },
  {
   "cell_type": "code",
   "execution_count": 5,
   "id": "f64922d0",
   "metadata": {},
   "outputs": [],
   "source": [
    "#PCA projection to 2D\n",
    "#specify number of principal components to reduce data to (2 components)\n",
    "pca = PCA(n_components = 2)\n",
    "\n",
    "#reduce data down to 2 dimensions \n",
    "principalComponents = pca.fit_transform(x)\n",
    "\n",
    "#store data with 2 principal components in a dataframe \n",
    "principalDf = pd.DataFrame(data = principalComponents\n",
    "             , columns = ['principal component 1', 'principal component 2'])\n"
   ]
  },
  {
   "cell_type": "code",
   "execution_count": 6,
   "id": "644f8ce7",
   "metadata": {},
   "outputs": [
    {
     "data": {
      "text/plain": [
       "pandas.core.series.Series"
      ]
     },
     "execution_count": 6,
     "metadata": {},
     "output_type": "execute_result"
    }
   ],
   "source": [
    "#attempted to convert the list of row labels to series to be used in generating the pca plot\n",
    "col = list(df.columns)\n",
    "series = pd.Series(col)\n",
    "type(series)"
   ]
  },
  {
   "cell_type": "code",
   "execution_count": 7,
   "id": "f7d454f1",
   "metadata": {},
   "outputs": [
    {
     "name": "stdout",
     "output_type": "stream",
     "text": [
      "       No LRRK2 control Replicate 1  No LRRK2 control Replicate 2  \\\n",
      "0                                 0                             0   \n",
      "1                                 0                             0   \n",
      "2                               323                           450   \n",
      "3                                 0                             0   \n",
      "4                                 0                             0   \n",
      "...                             ...                           ...   \n",
      "34093                             0                             0   \n",
      "34094                             0                             0   \n",
      "34095                             0                             0   \n",
      "34096                             0                             0   \n",
      "34097                             0                             3   \n",
      "\n",
      "       No LRRK2 control Replicate 3  LRRK2 Replicate 1  LRRK2 Replicate 2  \\\n",
      "0                                 0                  0                  0   \n",
      "1                                 0                  0                  0   \n",
      "2                               247                188                311   \n",
      "3                                 0                  0                  0   \n",
      "4                                 0                  0                  0   \n",
      "...                             ...                ...                ...   \n",
      "34093                             0                  0                  0   \n",
      "34094                             0                  0                  0   \n",
      "34095                             0                  0                  0   \n",
      "34096                             0                  0                  0   \n",
      "34097                             0                  0                  0   \n",
      "\n",
      "       LRRK2 Replicate 3  LRRK2 G2019S Replicate 1  LRRK2 G2019S Replicate 2  \\\n",
      "0                      0                         0                         0   \n",
      "1                      0                         0                         0   \n",
      "2                    299                       212                        67   \n",
      "3                      0                         0                         0   \n",
      "4                      0                         0                         0   \n",
      "...                  ...                       ...                       ...   \n",
      "34093                  0                         0                         0   \n",
      "34094                  0                         0                         0   \n",
      "34095                  0                         0                         0   \n",
      "34096                  0                         0                         0   \n",
      "34097                  0                         0                         0   \n",
      "\n",
      "       LRRK2 G2019S Replicate 3  \n",
      "0                             0  \n",
      "1                             0  \n",
      "2                           233  \n",
      "3                             0  \n",
      "4                             0  \n",
      "...                         ...  \n",
      "34093                         0  \n",
      "34094                         0  \n",
      "34095                         0  \n",
      "34096                         0  \n",
      "34097                         0  \n",
      "\n",
      "[34098 rows x 9 columns]\n"
     ]
    }
   ],
   "source": [
    "#checking to see if corresponding values of each column are printed out with this code\n",
    "labels = df.loc[:,['No LRRK2 control Replicate 1', 'No LRRK2 control Replicate 2', 'No LRRK2 control Replicate 3', 'LRRK2 Replicate 1', 'LRRK2 Replicate 2', 'LRRK2 Replicate 3', 'LRRK2 G2019S Replicate 1','LRRK2 G2019S Replicate 2','LRRK2 G2019S Replicate 3']]\n",
    "print(labels)"
   ]
  },
  {
   "cell_type": "code",
   "execution_count": 8,
   "id": "6e106c07",
   "metadata": {},
   "outputs": [
    {
     "ename": "KeyError",
     "evalue": "\"None of [Index(['RefSeq', 'Genename', 'No LRRK2 control Replicate 1',\\n       'No LRRK2 control Replicate 2', 'No LRRK2 control Replicate 3',\\n       'No LRRK2 control mean', 'No LRRK2 control SD', 'LRRK2 Replicate 1',\\n       'LRRK2 Replicate 2', 'LRRK2 Replicate 3', 'LRRK2 mean', 'LRRK2 SD',\\n       'LRRK2 G2019S Replicate 1', 'LRRK2 G2019S Replicate 2',\\n       'LRRK2 G2019S Replicate 3', 'LRRK2 G2019S mean', 'LRRK2 G2019S SD'],\\n      dtype='object')] are in the [columns]\"",
     "output_type": "error",
     "traceback": [
      "\u001b[0;31m---------------------------------------------------------------------------\u001b[0m",
      "\u001b[0;31mKeyError\u001b[0m                                  Traceback (most recent call last)",
      "\u001b[0;32m<ipython-input-8-23aa76e4a6e7>\u001b[0m in \u001b[0;36m<module>\u001b[0;34m\u001b[0m\n\u001b[1;32m     21\u001b[0m \u001b[0;31m#aligns the targets with the colors\u001b[0m\u001b[0;34m\u001b[0m\u001b[0;34m\u001b[0m\u001b[0;34m\u001b[0m\u001b[0m\n\u001b[1;32m     22\u001b[0m \u001b[0;32mfor\u001b[0m \u001b[0mtarget\u001b[0m\u001b[0;34m,\u001b[0m \u001b[0mcolor\u001b[0m \u001b[0;32min\u001b[0m \u001b[0mzip\u001b[0m\u001b[0;34m(\u001b[0m\u001b[0mtargets\u001b[0m\u001b[0;34m,\u001b[0m\u001b[0mcolors\u001b[0m\u001b[0;34m)\u001b[0m\u001b[0;34m:\u001b[0m\u001b[0;34m\u001b[0m\u001b[0;34m\u001b[0m\u001b[0m\n\u001b[0;32m---> 23\u001b[0;31m     \u001b[0mindicesToKeep\u001b[0m \u001b[0;34m=\u001b[0m \u001b[0mfinalDf\u001b[0m\u001b[0;34m[\u001b[0m\u001b[0mseries\u001b[0m\u001b[0;34m]\u001b[0m \u001b[0;34m==\u001b[0m \u001b[0mtarget\u001b[0m\u001b[0;34m\u001b[0m\u001b[0;34m\u001b[0m\u001b[0m\n\u001b[0m\u001b[1;32m     24\u001b[0m     \u001b[0;31m#defines the axes of pca plot\u001b[0m\u001b[0;34m\u001b[0m\u001b[0;34m\u001b[0m\u001b[0;34m\u001b[0m\u001b[0m\n\u001b[1;32m     25\u001b[0m     ax.scatter(finalDf.loc[indicesToKeep, 'principal component 1']\n",
      "\u001b[0;32m~/opt/anaconda3/lib/python3.8/site-packages/pandas/core/frame.py\u001b[0m in \u001b[0;36m__getitem__\u001b[0;34m(self, key)\u001b[0m\n\u001b[1;32m   3028\u001b[0m             \u001b[0;32mif\u001b[0m \u001b[0mis_iterator\u001b[0m\u001b[0;34m(\u001b[0m\u001b[0mkey\u001b[0m\u001b[0;34m)\u001b[0m\u001b[0;34m:\u001b[0m\u001b[0;34m\u001b[0m\u001b[0;34m\u001b[0m\u001b[0m\n\u001b[1;32m   3029\u001b[0m                 \u001b[0mkey\u001b[0m \u001b[0;34m=\u001b[0m \u001b[0mlist\u001b[0m\u001b[0;34m(\u001b[0m\u001b[0mkey\u001b[0m\u001b[0;34m)\u001b[0m\u001b[0;34m\u001b[0m\u001b[0;34m\u001b[0m\u001b[0m\n\u001b[0;32m-> 3030\u001b[0;31m             \u001b[0mindexer\u001b[0m \u001b[0;34m=\u001b[0m \u001b[0mself\u001b[0m\u001b[0;34m.\u001b[0m\u001b[0mloc\u001b[0m\u001b[0;34m.\u001b[0m\u001b[0m_get_listlike_indexer\u001b[0m\u001b[0;34m(\u001b[0m\u001b[0mkey\u001b[0m\u001b[0;34m,\u001b[0m \u001b[0maxis\u001b[0m\u001b[0;34m=\u001b[0m\u001b[0;36m1\u001b[0m\u001b[0;34m,\u001b[0m \u001b[0mraise_missing\u001b[0m\u001b[0;34m=\u001b[0m\u001b[0;32mTrue\u001b[0m\u001b[0;34m)\u001b[0m\u001b[0;34m[\u001b[0m\u001b[0;36m1\u001b[0m\u001b[0;34m]\u001b[0m\u001b[0;34m\u001b[0m\u001b[0;34m\u001b[0m\u001b[0m\n\u001b[0m\u001b[1;32m   3031\u001b[0m \u001b[0;34m\u001b[0m\u001b[0m\n\u001b[1;32m   3032\u001b[0m         \u001b[0;31m# take() does not accept boolean indexers\u001b[0m\u001b[0;34m\u001b[0m\u001b[0;34m\u001b[0m\u001b[0;34m\u001b[0m\u001b[0m\n",
      "\u001b[0;32m~/opt/anaconda3/lib/python3.8/site-packages/pandas/core/indexing.py\u001b[0m in \u001b[0;36m_get_listlike_indexer\u001b[0;34m(self, key, axis, raise_missing)\u001b[0m\n\u001b[1;32m   1264\u001b[0m             \u001b[0mkeyarr\u001b[0m\u001b[0;34m,\u001b[0m \u001b[0mindexer\u001b[0m\u001b[0;34m,\u001b[0m \u001b[0mnew_indexer\u001b[0m \u001b[0;34m=\u001b[0m \u001b[0max\u001b[0m\u001b[0;34m.\u001b[0m\u001b[0m_reindex_non_unique\u001b[0m\u001b[0;34m(\u001b[0m\u001b[0mkeyarr\u001b[0m\u001b[0;34m)\u001b[0m\u001b[0;34m\u001b[0m\u001b[0;34m\u001b[0m\u001b[0m\n\u001b[1;32m   1265\u001b[0m \u001b[0;34m\u001b[0m\u001b[0m\n\u001b[0;32m-> 1266\u001b[0;31m         \u001b[0mself\u001b[0m\u001b[0;34m.\u001b[0m\u001b[0m_validate_read_indexer\u001b[0m\u001b[0;34m(\u001b[0m\u001b[0mkeyarr\u001b[0m\u001b[0;34m,\u001b[0m \u001b[0mindexer\u001b[0m\u001b[0;34m,\u001b[0m \u001b[0maxis\u001b[0m\u001b[0;34m,\u001b[0m \u001b[0mraise_missing\u001b[0m\u001b[0;34m=\u001b[0m\u001b[0mraise_missing\u001b[0m\u001b[0;34m)\u001b[0m\u001b[0;34m\u001b[0m\u001b[0;34m\u001b[0m\u001b[0m\n\u001b[0m\u001b[1;32m   1267\u001b[0m         \u001b[0;32mreturn\u001b[0m \u001b[0mkeyarr\u001b[0m\u001b[0;34m,\u001b[0m \u001b[0mindexer\u001b[0m\u001b[0;34m\u001b[0m\u001b[0;34m\u001b[0m\u001b[0m\n\u001b[1;32m   1268\u001b[0m \u001b[0;34m\u001b[0m\u001b[0m\n",
      "\u001b[0;32m~/opt/anaconda3/lib/python3.8/site-packages/pandas/core/indexing.py\u001b[0m in \u001b[0;36m_validate_read_indexer\u001b[0;34m(self, key, indexer, axis, raise_missing)\u001b[0m\n\u001b[1;32m   1306\u001b[0m             \u001b[0;32mif\u001b[0m \u001b[0mmissing\u001b[0m \u001b[0;34m==\u001b[0m \u001b[0mlen\u001b[0m\u001b[0;34m(\u001b[0m\u001b[0mindexer\u001b[0m\u001b[0;34m)\u001b[0m\u001b[0;34m:\u001b[0m\u001b[0;34m\u001b[0m\u001b[0;34m\u001b[0m\u001b[0m\n\u001b[1;32m   1307\u001b[0m                 \u001b[0maxis_name\u001b[0m \u001b[0;34m=\u001b[0m \u001b[0mself\u001b[0m\u001b[0;34m.\u001b[0m\u001b[0mobj\u001b[0m\u001b[0;34m.\u001b[0m\u001b[0m_get_axis_name\u001b[0m\u001b[0;34m(\u001b[0m\u001b[0maxis\u001b[0m\u001b[0;34m)\u001b[0m\u001b[0;34m\u001b[0m\u001b[0;34m\u001b[0m\u001b[0m\n\u001b[0;32m-> 1308\u001b[0;31m                 \u001b[0;32mraise\u001b[0m \u001b[0mKeyError\u001b[0m\u001b[0;34m(\u001b[0m\u001b[0;34mf\"None of [{key}] are in the [{axis_name}]\"\u001b[0m\u001b[0;34m)\u001b[0m\u001b[0;34m\u001b[0m\u001b[0;34m\u001b[0m\u001b[0m\n\u001b[0m\u001b[1;32m   1309\u001b[0m \u001b[0;34m\u001b[0m\u001b[0m\n\u001b[1;32m   1310\u001b[0m             \u001b[0max\u001b[0m \u001b[0;34m=\u001b[0m \u001b[0mself\u001b[0m\u001b[0;34m.\u001b[0m\u001b[0mobj\u001b[0m\u001b[0;34m.\u001b[0m\u001b[0m_get_axis\u001b[0m\u001b[0;34m(\u001b[0m\u001b[0maxis\u001b[0m\u001b[0;34m)\u001b[0m\u001b[0;34m\u001b[0m\u001b[0;34m\u001b[0m\u001b[0m\n",
      "\u001b[0;31mKeyError\u001b[0m: \"None of [Index(['RefSeq', 'Genename', 'No LRRK2 control Replicate 1',\\n       'No LRRK2 control Replicate 2', 'No LRRK2 control Replicate 3',\\n       'No LRRK2 control mean', 'No LRRK2 control SD', 'LRRK2 Replicate 1',\\n       'LRRK2 Replicate 2', 'LRRK2 Replicate 3', 'LRRK2 mean', 'LRRK2 SD',\\n       'LRRK2 G2019S Replicate 1', 'LRRK2 G2019S Replicate 2',\\n       'LRRK2 G2019S Replicate 3', 'LRRK2 G2019S mean', 'LRRK2 G2019S SD'],\\n      dtype='object')] are in the [columns]\""
     ]
    },
    {
     "data": {
      "image/png": "[encoded data removed]",
      "text/plain": [
       "<Figure size 576x576 with 1 Axes>"
      ]
     },
     "metadata": {
      "needs_background": "light"
     },
     "output_type": "display_data"
    }
   ],
   "source": [
    "#sets the parameters of the plot\n",
    "fig = plt.figure(figsize = (8,8))\n",
    "ax = fig.add_subplot(1,1,1) \n",
    "\n",
    "#labels the x and y axes and the title\n",
    "ax.set_xlabel('Principal Component 1', fontsize = 15)\n",
    "ax.set_ylabel('Principal Component 2', fontsize = 15)\n",
    "ax.set_title('2 component PCA', fontsize = 20)\n",
    "\n",
    "#specifies the groups that the columns belong to\n",
    "no_LRRK2_control = ['No LRRK2 control Replicate 1', 'No LRRK2 control Replicate 2', 'No LRRK2 control Replicate 3']\n",
    "LRRK2 = ['LRRK2 Replicate 1', 'LRRK2 Replicate 2', 'LRRK2 Replicate 3']\n",
    "LRRK2_G2019S = ['LRRK2 G2019S Replicate 1','LRRK2 G2019S Replicate 2','LRRK2 G2019S Replicate 3']\n",
    "\n",
    "finalDf = pd.concat([principalDf, series], axis = 1)\n",
    "\n",
    "#specifies the groups that are targeted\n",
    "targets = [no_LRRK2_control, LRRK2, LRRK2_G2019S]\n",
    "#specifies the colors to code the groups with \n",
    "colors = ['r', 'g', 'b']\n",
    "#aligns the targets with the colors \n",
    "for target, color in zip(targets,colors):\n",
    "    indicesToKeep = finalDf[series] == target\n",
    "    #defines the axes of pca plot\n",
    "    ax.scatter(finalDf.loc[indicesToKeep, 'principal component 1']\n",
    "               , finalDf.loc[indicesToKeep, 'principal component 2']\n",
    "               , c = color\n",
    "               , s = 50)\n",
    "#creates a legend\n",
    "ax.legend(targets)\n",
    "\n",
    "#creates a grid on plot\n",
    "ax.grid()"
   ]
  },
  {
   "cell_type": "markdown",
   "id": "b31c1ae0",
   "metadata": {},
   "source": [
    "#### Heatmaps\n",
    "Heatmaps are a data visualization method that creates a two-dimensional representation of data using color variation. In biology, heatmaps are often used to visualize gene expression data such as RNA-seq data. Genes are represented as rows of a matrix and the samples are represented by the columns and the rows and columns are coded with different colors or saturation. In order to visualize similar gene expression patterns more easily, hierarchical clustering, which reorders genes with similar gene expression profiles together, may be required.\n",
    "\n",
    "Heatmaps read in data frames and only accept numeric values. \n",
    "\n",
    "**How it works**:\n",
    "First, the theme of the heatmap is set, and then the columns and rows can be specified in the heatmap function.\n",
    "\n",
    "References\n",
    "\n",
    "https://towardsdatascience.com/all-about-heatmaps-bb7d97f099d7\n",
    "https://seaborn.pydata.org/generated/seaborn.heatmap.html\n"
   ]
  },
  {
   "cell_type": "code",
   "execution_count": 9,
   "id": "04fe38d6",
   "metadata": {},
   "outputs": [
    {
     "ename": "SyntaxError",
     "evalue": "invalid syntax (<ipython-input-9-9650534c2011>, line 4)",
     "output_type": "error",
     "traceback": [
      "\u001b[0;36m  File \u001b[0;32m\"<ipython-input-9-9650534c2011>\"\u001b[0;36m, line \u001b[0;32m4\u001b[0m\n\u001b[0;31m    if col is in ['No LRRK2 control Replicate 1', 'No LRRK2 control Replicate 2', 'No LRRK2 control Replicate 3', 'LRRK2 Replicate 1', 'LRRK2 Replicate 2', 'LRRK2 Replicate 3', 'LRRK2 G2019S Replicate 1','LRRK2 G2019S Replicate 2','LRRK2 G2019S Replicate 3']:\u001b[0m\n\u001b[0m              ^\u001b[0m\n\u001b[0;31mSyntaxError\u001b[0m\u001b[0;31m:\u001b[0m invalid syntax\n"
     ]
    }
   ],
   "source": [
    "#attempted to create a new column indicating the group each data point is in\n",
    "labels = []\n",
    "for col in df.columns:\n",
    "    if col is in ['No LRRK2 control Replicate 1', 'No LRRK2 control Replicate 2', 'No LRRK2 control Replicate 3', 'LRRK2 Replicate 1', 'LRRK2 Replicate 2', 'LRRK2 Replicate 3', 'LRRK2 G2019S Replicate 1','LRRK2 G2019S Replicate 2','LRRK2 G2019S Replicate 3']:\n",
    "        labels.append(col)\n",
    "        print(labels)        "
   ]
  },
  {
   "cell_type": "code",
   "execution_count": 10,
   "id": "088a451c",
   "metadata": {},
   "outputs": [
    {
     "name": "stdout",
     "output_type": "stream",
     "text": [
      "  Genename  No LRRK2 control Replicate 1  No LRRK2 control Replicate 2  \\\n",
      "0  CG42637                             0                             0   \n",
      "1  CG42637                             0                             0   \n",
      "2    PNUTS                           323                           450   \n",
      "3    PNUTS                             0                             0   \n",
      "4    PNUTS                             0                             0   \n",
      "\n",
      "   No LRRK2 control Replicate 3  LRRK2 Replicate 1  LRRK2 Replicate 2  \\\n",
      "0                             0                  0                  0   \n",
      "1                             0                  0                  0   \n",
      "2                           247                188                311   \n",
      "3                             0                  0                  0   \n",
      "4                             0                  0                  0   \n",
      "\n",
      "   LRRK2 Replicate 3  LRRK2 G2019S Replicate 1  LRRK2 G2019S Replicate 2  \\\n",
      "0                  0                         0                         0   \n",
      "1                  0                         0                         0   \n",
      "2                299                       212                        67   \n",
      "3                  0                         0                         0   \n",
      "4                  0                         0                         0   \n",
      "\n",
      "   LRRK2 G2019S Replicate 3  \n",
      "0                         0  \n",
      "1                         0  \n",
      "2                       233  \n",
      "3                         0  \n",
      "4                         0  \n"
     ]
    },
    {
     "data": {
      "image/png": "[encoded data removed]",
      "text/plain": [
       "<Figure size 432x288 with 2 Axes>"
      ]
     },
     "metadata": {},
     "output_type": "display_data"
    }
   ],
   "source": [
    "#sets default theme for heatmap\n",
    "sns.set_theme()\n",
    "\n",
    "#creates data containing desired columns\n",
    "data = df[['Genename','No LRRK2 control Replicate 1', 'No LRRK2 control Replicate 2', 'No LRRK2 control Replicate 3', 'LRRK2 Replicate 1', 'LRRK2 Replicate 2', 'LRRK2 Replicate 3', 'LRRK2 G2019S Replicate 1','LRRK2 G2019S Replicate 2','LRRK2 G2019S Replicate 3']]\n",
    "\n",
    "#check to see if data has the desired columns \n",
    "print(data.head())\n",
    "\n",
    "#specifies what rows and columns to include in heatmap\n",
    "heatmap_data = pd.pivot_table(data, index = ['Genename'], values = df.loc[:,['No LRRK2 control Replicate 1', 'No LRRK2 control Replicate 2', 'No LRRK2 control Replicate 3', 'LRRK2 Replicate 1', 'LRRK2 Replicate 2', 'LRRK2 Replicate 3', 'LRRK2 G2019S Replicate 1','LRRK2 G2019S Replicate 2','LRRK2 G2019S Replicate 3']])\n",
    "\n",
    "#generates heatmap\n",
    "ax = sns.heatmap(heatmap_data)"
   ]
  },
  {
   "cell_type": "markdown",
   "id": "f6bb1f41",
   "metadata": {},
   "source": [
    "## Analyzing the Results\n",
    "\n",
    "For the bioinformatics analysis using p-values, a t-test is performed between every possible pair of groups including no LRRK2 control and LRRK2, LRRK2 and LRRK2 G2019S, no LRRK2 control and LRRK2 G2019S. The article Pallos et al., 2021 used an FDR-adjusted p-value threshold of 0.1, and therefore, I will be using this threshold to analyze the data. From the results, the p-values of all 3 comparisons are above 0.1 and therefore, we can conclude that there is no significant difference between the groups at the time point that the gene expression of DA neurons in Drosophila flies were profiled. The Drosophila flies were aged to about 4 weeks before the DA neuron gene expression changes were assessed, and this time point is chosen because it is when PD-related phenotypes start to show up but before any DA neuron loss occurs (Liu et al., 2008). \n",
    "\n",
    "**(based on pca plot from figure 3A of article Pallos et al, 2021 since I was unable to generate a proper pca plot**\n",
    "\n",
    "From the PCA analysis, there is no significant clustering among replicates of the same group. The variance between groups is also shown to be smaller than variance within groups. Therefore, we do not see a clear difference between the gene expression of these different groups. This result is actually consistent with what is expected because at the time point of 4 weeks old, the levels of LRRK2 expression is expected to have minimal effects on the translatome, and this includes the presence of the LRRK2 G2019S mutation. \n",
    "\n",
    "**(based on heatmap (figure 3D) from article (Pallos et al, 2021) since I was unable to generate a proper heatmap)**\n",
    "\n",
    "Looking more closely at the gene expression of specific differentially expressed genes through a heatmap, we can see that there are a couple of genes that are downregulated in the LRRK2 G2019S . Of these genes, lin-28 and RfC3 are included. As a result, we can accept the scientific hypothesis and conclude that the LRRK2 G2019S mutant does indeed have reduced gene expression of lin-28 and RfC3. These genes may be involved in the loss of DA neurons in Drosophila flies after LRRK2 G2019S expression. However, further studies on these specific genes may be required to validate the effect and importance of these genes on DA neuron loss. It is also important to study the biological pathways that these genes are involved in. \n",
    "\n",
    "*My heatmap was unable to show the gene expression of all genes and it appears that all genes that are shown have expression level of 0 for all groups and replicates*\n"
   ]
  }
 ],
 "metadata": {
  "kernelspec": {
   "display_name": "Python 3",
   "language": "python",
   "name": "python3"
  },
  "language_info": {
   "codemirror_mode": {
    "name": "ipython",
    "version": 3
   },
   "file_extension": ".py",
   "mimetype": "text/x-python",
   "name": "python",
   "nbconvert_exporter": "python",
   "pygments_lexer": "ipython3",
   "version": "3.8.8"
  }
 },
 "nbformat": 4,
 "nbformat_minor": 5
}
